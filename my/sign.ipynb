{
 "cells": [
  {
   "cell_type": "code",
   "execution_count": 2,
   "metadata": {},
   "outputs": [],
   "source": [
    "from Crypto.Hash import SHA256\n",
    "from Crypto.Signature import PKCS1_v1_5\n",
    "from Crypto.PublicKey import RSA\n",
    "# from cryptography.hazmat.primitives import hashes\n",
    "# from cryptography.hazmat.primitives.asymmetric import padding\n",
    "\n",
    "# https://cryptography.io/en/latest/hazmat/primitives/asymmetric/utils/\n",
    "def signMessage(msg, privateKey):\n",
    "    # create SHA256\n",
    "    hash = SHA256.new()\n",
    "    hash.update(msg.encode('utf-8'))\n",
    "\n",
    "    signer = PKCS1_v1_5.new(privateKey)\n",
    "    signature = signer.sign(hash)\n",
    "\n",
    "    # signature to hex\n",
    "    with open(\"sign.txt\", \"w\") as file:\n",
    "      file.write(signature.hex())\n",
    "    \n",
    "    return\n",
    "\n",
    "# message as test object, can be file\n",
    "message = \"Red 2001 Miata\"\n",
    "\n",
    "with open(\"private_key.pem\", \"r\") as file:\n",
    "    privateKey = RSA.importKey(file.read())\n",
    "\n",
    "mySignKey = signMessage(message, privateKey)\n"
   ]
  },
  {
   "cell_type": "code",
   "execution_count": 3,
   "metadata": {},
   "outputs": [
    {
     "name": "stdout",
     "output_type": "stream",
     "text": [
      "ERR: Message not verified\n"
     ]
    }
   ],
   "source": [
    "def verifyMessage(msg, signature, publicKey):\n",
    "    hash = SHA256.new()\n",
    "    hash.update(msg.encode('utf-8'))\n",
    "\n",
    "    verifier = PKCS1_v1_5.new(publicKey)\n",
    "    verified = verifier.verify(hash, signature)\n",
    "    if (verified):\n",
    "        print(\"Message confirmed.\")\n",
    "    else:\n",
    "        print(\"ERR: Message not verified\")\n",
    "    \n",
    "    return\n",
    "\n",
    "### message as test object\n",
    "# message = \"Red 2001 Miata\"\n",
    "\n",
    "### small difference in message, should not confirm\n",
    "message = \"Red 2002 Miata\"\n",
    "\n",
    "with open(\"public_key.pem\", \"r\") as file:\n",
    "    myPublicKey = RSA.importKey(file.read())\n",
    "    \n",
    "with open(\"sign.txt\", \"r\") as file:\n",
    "    signKey = file.read()\n",
    "signKey = bytes.fromhex(signKey)\n",
    "    \n",
    "verifyMessage(message, signKey, myPublicKey)"
   ]
  }
 ],
 "metadata": {
  "kernelspec": {
   "display_name": "Python 3",
   "language": "python",
   "name": "python3"
  },
  "language_info": {
   "codemirror_mode": {
    "name": "ipython",
    "version": 3
   },
   "file_extension": ".py",
   "mimetype": "text/x-python",
   "name": "python",
   "nbconvert_exporter": "python",
   "pygments_lexer": "ipython3",
   "version": "3.10.11"
  },
  "orig_nbformat": 4
 },
 "nbformat": 4,
 "nbformat_minor": 2
}
